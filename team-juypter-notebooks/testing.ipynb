{
 "cells": [
  {
   "cell_type": "markdown",
   "metadata": {},
   "source": [
    "# Install packages\n",
    "\n",
    "First thing is to install pandas, numpy, scikit-learn, matplotlib, and seaborn. Then below you see where we import the packages in our notebook."
   ]
  },
  {
   "cell_type": "code",
   "execution_count": 2,
   "metadata": {},
   "outputs": [],
   "source": [
    "import pandas as pd\n",
    "import numpy as np\n",
    "import datetime as dt\n",
    "\n",
    "import matplotlib.pyplot as plt\n",
    "import seaborn as sns\n",
    "\n",
    "from sklearn.model_selection import train_test_split, RandomizedSearchCV, GridSearchCV\n",
    "\n",
    "from sklearn.linear_model import LinearRegression, LogisticRegression, Ridge, ElasticNet, Lasso\n",
    "from sklearn.metrics import classification_report, mean_squared_error, confusion_matrix, plot_confusion_matrix, accuracy_score, roc_auc_score, precision_score, recall_score, f1_score, roc_curve, auc\n",
    "from sklearn.preprocessing import StandardScaler\n",
    "\n",
    "# allow multiple outputs per cell\n",
    "from IPython.core.interactiveshell import InteractiveShell\n",
    "InteractiveShell.ast_node_interactivity = \"all\"\n"
   ]
  },
  {
   "cell_type": "markdown",
   "metadata": {},
   "source": [
    "# Import the data and start exploring it"
   ]
  },
  {
   "cell_type": "code",
   "execution_count": 3,
   "metadata": {
    "scrolled": true
   },
   "outputs": [
    {
     "output_type": "execute_result",
     "data": {
      "text/plain": [
       "        University     GradTime     Distance         Full         STEM  \\\n",
       "count  8208.000000  8208.000000  8208.000000  8208.000000  8208.000000   \n",
       "mean      7.992446  2021.986111     0.316155     0.875975     0.306043   \n",
       "std       3.226881     0.831072     0.465003     0.329631     0.460876   \n",
       "min       1.000000  2021.000000     0.000000     0.000000     0.000000   \n",
       "25%       6.000000  2021.000000     0.000000     1.000000     0.000000   \n",
       "50%       8.000000  2022.000000     0.000000     1.000000     0.000000   \n",
       "75%      10.000000  2023.000000     1.000000     1.000000     1.000000   \n",
       "max      14.000000  2023.000000     1.000000     1.000000     1.000000   \n",
       "\n",
       "       Alcareerlearn       StayAL  AL Resident  StateHScode         ALHS  ...  \\\n",
       "count    8208.000000  8208.000000  8208.000000  8208.000000  7855.000000  ...   \n",
       "mean        0.725268     1.630361     0.642544     7.299464    36.898027  ...   \n",
       "std         0.446406     1.250832     0.479280     2.649684    43.085221  ...   \n",
       "min         0.000000     0.000000     0.000000     1.000000     1.000000  ...   \n",
       "25%         0.000000     1.000000     0.000000     4.000000     5.000000  ...   \n",
       "50%         1.000000     1.000000     1.000000     9.000000    10.000000  ...   \n",
       "75%         1.000000     3.000000     1.000000     9.000000    99.000000  ...   \n",
       "max         1.000000     3.000000     1.000000    10.000000    99.000000  ...   \n",
       "\n",
       "       I_c_sporting  I_c_outdoor  AL Resident.1  StateHScode.1       ALHS.1  \\\n",
       "count   8208.000000  8208.000000         5274.0    8208.000000  7855.000000   \n",
       "mean       3.467105     4.528996            1.0       7.299464    36.898027   \n",
       "std        1.629699     0.997566            0.0       2.649684    43.085221   \n",
       "min        1.000000     1.000000            1.0       1.000000     1.000000   \n",
       "25%        3.000000     5.000000            1.0       4.000000     5.000000   \n",
       "50%        3.000000     5.000000            1.0       9.000000    10.000000   \n",
       "75%        5.000000     5.000000            1.0       9.000000    99.000000   \n",
       "max        5.000000     5.000000            1.0      10.000000    99.000000   \n",
       "\n",
       "          Gender.1  Race Code.1        Age.1  Disability.1   FirstGEn.1  \n",
       "count  8208.000000  8208.000000  8208.000000   8171.000000  8185.000000  \n",
       "mean      1.337110     3.498294     2.486964      0.051524     0.383262  \n",
       "std       0.487471     1.025683     0.934468      0.221077     0.486211  \n",
       "min       1.000000     1.000000     1.000000      0.000000     0.000000  \n",
       "25%       1.000000     3.000000     2.000000      0.000000     0.000000  \n",
       "50%       1.000000     4.000000     2.000000      0.000000     0.000000  \n",
       "75%       2.000000     4.000000     3.000000      0.000000     1.000000  \n",
       "max       3.000000     6.000000     7.000000      1.000000     1.000000  \n",
       "\n",
       "[8 rows x 141 columns]"
      ],
      "text/html": "<div>\n<style scoped>\n    .dataframe tbody tr th:only-of-type {\n        vertical-align: middle;\n    }\n\n    .dataframe tbody tr th {\n        vertical-align: top;\n    }\n\n    .dataframe thead th {\n        text-align: right;\n    }\n</style>\n<table border=\"1\" class=\"dataframe\">\n  <thead>\n    <tr style=\"text-align: right;\">\n      <th></th>\n      <th>University</th>\n      <th>GradTime</th>\n      <th>Distance</th>\n      <th>Full</th>\n      <th>STEM</th>\n      <th>Alcareerlearn</th>\n      <th>StayAL</th>\n      <th>AL Resident</th>\n      <th>StateHScode</th>\n      <th>ALHS</th>\n      <th>...</th>\n      <th>I_c_sporting</th>\n      <th>I_c_outdoor</th>\n      <th>AL Resident.1</th>\n      <th>StateHScode.1</th>\n      <th>ALHS.1</th>\n      <th>Gender.1</th>\n      <th>Race Code.1</th>\n      <th>Age.1</th>\n      <th>Disability.1</th>\n      <th>FirstGEn.1</th>\n    </tr>\n  </thead>\n  <tbody>\n    <tr>\n      <th>count</th>\n      <td>8208.000000</td>\n      <td>8208.000000</td>\n      <td>8208.000000</td>\n      <td>8208.000000</td>\n      <td>8208.000000</td>\n      <td>8208.000000</td>\n      <td>8208.000000</td>\n      <td>8208.000000</td>\n      <td>8208.000000</td>\n      <td>7855.000000</td>\n      <td>...</td>\n      <td>8208.000000</td>\n      <td>8208.000000</td>\n      <td>5274.0</td>\n      <td>8208.000000</td>\n      <td>7855.000000</td>\n      <td>8208.000000</td>\n      <td>8208.000000</td>\n      <td>8208.000000</td>\n      <td>8171.000000</td>\n      <td>8185.000000</td>\n    </tr>\n    <tr>\n      <th>mean</th>\n      <td>7.992446</td>\n      <td>2021.986111</td>\n      <td>0.316155</td>\n      <td>0.875975</td>\n      <td>0.306043</td>\n      <td>0.725268</td>\n      <td>1.630361</td>\n      <td>0.642544</td>\n      <td>7.299464</td>\n      <td>36.898027</td>\n      <td>...</td>\n      <td>3.467105</td>\n      <td>4.528996</td>\n      <td>1.0</td>\n      <td>7.299464</td>\n      <td>36.898027</td>\n      <td>1.337110</td>\n      <td>3.498294</td>\n      <td>2.486964</td>\n      <td>0.051524</td>\n      <td>0.383262</td>\n    </tr>\n    <tr>\n      <th>std</th>\n      <td>3.226881</td>\n      <td>0.831072</td>\n      <td>0.465003</td>\n      <td>0.329631</td>\n      <td>0.460876</td>\n      <td>0.446406</td>\n      <td>1.250832</td>\n      <td>0.479280</td>\n      <td>2.649684</td>\n      <td>43.085221</td>\n      <td>...</td>\n      <td>1.629699</td>\n      <td>0.997566</td>\n      <td>0.0</td>\n      <td>2.649684</td>\n      <td>43.085221</td>\n      <td>0.487471</td>\n      <td>1.025683</td>\n      <td>0.934468</td>\n      <td>0.221077</td>\n      <td>0.486211</td>\n    </tr>\n    <tr>\n      <th>min</th>\n      <td>1.000000</td>\n      <td>2021.000000</td>\n      <td>0.000000</td>\n      <td>0.000000</td>\n      <td>0.000000</td>\n      <td>0.000000</td>\n      <td>0.000000</td>\n      <td>0.000000</td>\n      <td>1.000000</td>\n      <td>1.000000</td>\n      <td>...</td>\n      <td>1.000000</td>\n      <td>1.000000</td>\n      <td>1.0</td>\n      <td>1.000000</td>\n      <td>1.000000</td>\n      <td>1.000000</td>\n      <td>1.000000</td>\n      <td>1.000000</td>\n      <td>0.000000</td>\n      <td>0.000000</td>\n    </tr>\n    <tr>\n      <th>25%</th>\n      <td>6.000000</td>\n      <td>2021.000000</td>\n      <td>0.000000</td>\n      <td>1.000000</td>\n      <td>0.000000</td>\n      <td>0.000000</td>\n      <td>1.000000</td>\n      <td>0.000000</td>\n      <td>4.000000</td>\n      <td>5.000000</td>\n      <td>...</td>\n      <td>3.000000</td>\n      <td>5.000000</td>\n      <td>1.0</td>\n      <td>4.000000</td>\n      <td>5.000000</td>\n      <td>1.000000</td>\n      <td>3.000000</td>\n      <td>2.000000</td>\n      <td>0.000000</td>\n      <td>0.000000</td>\n    </tr>\n    <tr>\n      <th>50%</th>\n      <td>8.000000</td>\n      <td>2022.000000</td>\n      <td>0.000000</td>\n      <td>1.000000</td>\n      <td>0.000000</td>\n      <td>1.000000</td>\n      <td>1.000000</td>\n      <td>1.000000</td>\n      <td>9.000000</td>\n      <td>10.000000</td>\n      <td>...</td>\n      <td>3.000000</td>\n      <td>5.000000</td>\n      <td>1.0</td>\n      <td>9.000000</td>\n      <td>10.000000</td>\n      <td>1.000000</td>\n      <td>4.000000</td>\n      <td>2.000000</td>\n      <td>0.000000</td>\n      <td>0.000000</td>\n    </tr>\n    <tr>\n      <th>75%</th>\n      <td>10.000000</td>\n      <td>2023.000000</td>\n      <td>1.000000</td>\n      <td>1.000000</td>\n      <td>1.000000</td>\n      <td>1.000000</td>\n      <td>3.000000</td>\n      <td>1.000000</td>\n      <td>9.000000</td>\n      <td>99.000000</td>\n      <td>...</td>\n      <td>5.000000</td>\n      <td>5.000000</td>\n      <td>1.0</td>\n      <td>9.000000</td>\n      <td>99.000000</td>\n      <td>2.000000</td>\n      <td>4.000000</td>\n      <td>3.000000</td>\n      <td>0.000000</td>\n      <td>1.000000</td>\n    </tr>\n    <tr>\n      <th>max</th>\n      <td>14.000000</td>\n      <td>2023.000000</td>\n      <td>1.000000</td>\n      <td>1.000000</td>\n      <td>1.000000</td>\n      <td>1.000000</td>\n      <td>3.000000</td>\n      <td>1.000000</td>\n      <td>10.000000</td>\n      <td>99.000000</td>\n      <td>...</td>\n      <td>5.000000</td>\n      <td>5.000000</td>\n      <td>1.0</td>\n      <td>10.000000</td>\n      <td>99.000000</td>\n      <td>3.000000</td>\n      <td>6.000000</td>\n      <td>7.000000</td>\n      <td>1.000000</td>\n      <td>1.000000</td>\n    </tr>\n  </tbody>\n</table>\n<p>8 rows × 141 columns</p>\n</div>"
     },
     "metadata": {},
     "execution_count": 3
    }
   ],
   "source": [
    "\n",
    "data = pd.read_csv('../Project Retain Alabama/Survey Data and Info/UABformatChange.csv')\n",
    "alabamaData = pd.read_csv('../Project Retain Alabama/Survey Data and Info/alabamaData.csv')\n",
    "alabamaData.describe()"
   ]
  },
  {
   "cell_type": "markdown",
   "metadata": {},
   "source": [
    "Some commands you could start with : \n",
    "- data.describe()\n",
    "- data.shape\n",
    "- data.isnull().sum()\n",
    "- data['column name'].value_counts()"
   ]
  },
  {
   "cell_type": "markdown",
   "metadata": {},
   "source": [
    "# Transform the Data for Regression"
   ]
  },
  {
   "cell_type": "code",
   "execution_count": 4,
   "metadata": {},
   "outputs": [],
   "source": [
    "data = data.replace(np.NAN, 0)\n",
    "alabamaData = alabamaData.replace(np.NAN, 0)\n",
    "data = data.loc[:,~data.columns.duplicated()]\n",
    "alabamaData = alabamaData.loc[:,~alabamaData.columns.duplicated()]"
   ]
  },
  {
   "cell_type": "code",
   "execution_count": 5,
   "metadata": {},
   "outputs": [
    {
     "output_type": "execute_result",
     "data": {
      "text/plain": [
       "      University  GradTime                          FTPT  Distance  Full  \\\n",
       "0              9      2021  Full-time Distance Education         1     1   \n",
       "1              9      2021  Full-time Distance Education         1     1   \n",
       "2              9      2022  Full-time Distance Education         1     1   \n",
       "3              9      2022  Full-time Distance Education         1     1   \n",
       "4              9      2022  Full-time Distance Education         1     1   \n",
       "...          ...       ...                           ...       ...   ...   \n",
       "1201           9      2022           Full-time On-Campus         0     1   \n",
       "1202           9      2023           Full-time On-Campus         0     1   \n",
       "1203           9      2023           Full-time On-Campus         0     1   \n",
       "1204           9      2021  Part-time Distance Education         1     0   \n",
       "1205           9      2023  Part-time Distance Education         1     0   \n",
       "\n",
       "      STEM  Alcareerlearn  StayAL  AL Resident  StateHScode  ...  \\\n",
       "0        0              1       0            1            9  ...   \n",
       "1        0              0       3            1            9  ...   \n",
       "2        0              1       0            1            9  ...   \n",
       "3        0              1       1            1            9  ...   \n",
       "4        0              1       3            1            9  ...   \n",
       "...    ...            ...     ...          ...          ...  ...   \n",
       "1201     0              1       0            0            3  ...   \n",
       "1202     0              0       1            0           10  ...   \n",
       "1203     0              1       3            0           10  ...   \n",
       "1204     1              0       3            0           10  ...   \n",
       "1205     0              1       3            0            6  ...   \n",
       "\n",
       "      Major Code_Other, Social Sciences  \\\n",
       "0                                     0   \n",
       "1                                     0   \n",
       "2                                     0   \n",
       "3                                     0   \n",
       "4                                     0   \n",
       "...                                 ...   \n",
       "1201                                  0   \n",
       "1202                                  0   \n",
       "1203                                  0   \n",
       "1204                                  0   \n",
       "1205                                  0   \n",
       "\n",
       "      Major Code_Science, Technology, Engineering and Mathematics  \\\n",
       "0                                                     0             \n",
       "1                                                     0             \n",
       "2                                                     0             \n",
       "3                                                     0             \n",
       "4                                                     0             \n",
       "...                                                 ...             \n",
       "1201                                                  0             \n",
       "1202                                                  0             \n",
       "1203                                                  0             \n",
       "1204                                                  0             \n",
       "1205                                                  0             \n",
       "\n",
       "      Major Code_Transportation, Distribution and Logistics  \\\n",
       "0                                                     0       \n",
       "1                                                     0       \n",
       "2                                                     0       \n",
       "3                                                     0       \n",
       "4                                                     0       \n",
       "...                                                 ...       \n",
       "1201                                                  0       \n",
       "1202                                                  0       \n",
       "1203                                                  0       \n",
       "1204                                                  0       \n",
       "1205                                                  0       \n",
       "\n",
       "      Major Code Revised_Arts, A/V Technology and Communications  \\\n",
       "0                                                     1            \n",
       "1                                                     1            \n",
       "2                                                     1            \n",
       "3                                                     1            \n",
       "4                                                     1            \n",
       "...                                                 ...            \n",
       "1201                                                  0            \n",
       "1202                                                  0            \n",
       "1203                                                  0            \n",
       "1204                                                  0            \n",
       "1205                                                  0            \n",
       "\n",
       "      Major Code Revised_Business Management and Administration  \\\n",
       "0                                                     0           \n",
       "1                                                     0           \n",
       "2                                                     0           \n",
       "3                                                     0           \n",
       "4                                                     0           \n",
       "...                                                 ...           \n",
       "1201                                                  0           \n",
       "1202                                                  0           \n",
       "1203                                                  0           \n",
       "1204                                                  0           \n",
       "1205                                                  1           \n",
       "\n",
       "      Major Code Revised_Education and Training  \\\n",
       "0                                             0   \n",
       "1                                             0   \n",
       "2                                             0   \n",
       "3                                             0   \n",
       "4                                             0   \n",
       "...                                         ...   \n",
       "1201                                          0   \n",
       "1202                                          0   \n",
       "1203                                          0   \n",
       "1204                                          0   \n",
       "1205                                          0   \n",
       "\n",
       "      Major Code Revised_Health Sciences  Major Code Revised_Human Services  \\\n",
       "0                                      0                                  0   \n",
       "1                                      0                                  0   \n",
       "2                                      0                                  0   \n",
       "3                                      0                                  0   \n",
       "4                                      0                                  0   \n",
       "...                                  ...                                ...   \n",
       "1201                                   1                                  0   \n",
       "1202                                   1                                  0   \n",
       "1203                                   1                                  0   \n",
       "1204                                   0                                  0   \n",
       "1205                                   0                                  0   \n",
       "\n",
       "      Major Code Revised_Law, Public Safety, Public Administration  \\\n",
       "0                                                     0              \n",
       "1                                                     0              \n",
       "2                                                     0              \n",
       "3                                                     0              \n",
       "4                                                     0              \n",
       "...                                                 ...              \n",
       "1201                                                  0              \n",
       "1202                                                  0              \n",
       "1203                                                  0              \n",
       "1204                                                  0              \n",
       "1205                                                  0              \n",
       "\n",
       "      Major Code Revised_Science, Technology, Engineering and Mathematics  \n",
       "0                                                     0                    \n",
       "1                                                     0                    \n",
       "2                                                     0                    \n",
       "3                                                     0                    \n",
       "4                                                     0                    \n",
       "...                                                 ...                    \n",
       "1201                                                  0                    \n",
       "1202                                                  0                    \n",
       "1203                                                  0                    \n",
       "1204                                                  1                    \n",
       "1205                                                  0                    \n",
       "\n",
       "[1206 rows x 298 columns]"
      ],
      "text/html": "<div>\n<style scoped>\n    .dataframe tbody tr th:only-of-type {\n        vertical-align: middle;\n    }\n\n    .dataframe tbody tr th {\n        vertical-align: top;\n    }\n\n    .dataframe thead th {\n        text-align: right;\n    }\n</style>\n<table border=\"1\" class=\"dataframe\">\n  <thead>\n    <tr style=\"text-align: right;\">\n      <th></th>\n      <th>University</th>\n      <th>GradTime</th>\n      <th>FTPT</th>\n      <th>Distance</th>\n      <th>Full</th>\n      <th>STEM</th>\n      <th>Alcareerlearn</th>\n      <th>StayAL</th>\n      <th>AL Resident</th>\n      <th>StateHScode</th>\n      <th>...</th>\n      <th>Major Code_Other, Social Sciences</th>\n      <th>Major Code_Science, Technology, Engineering and Mathematics</th>\n      <th>Major Code_Transportation, Distribution and Logistics</th>\n      <th>Major Code Revised_Arts, A/V Technology and Communications</th>\n      <th>Major Code Revised_Business Management and Administration</th>\n      <th>Major Code Revised_Education and Training</th>\n      <th>Major Code Revised_Health Sciences</th>\n      <th>Major Code Revised_Human Services</th>\n      <th>Major Code Revised_Law, Public Safety, Public Administration</th>\n      <th>Major Code Revised_Science, Technology, Engineering and Mathematics</th>\n    </tr>\n  </thead>\n  <tbody>\n    <tr>\n      <th>0</th>\n      <td>9</td>\n      <td>2021</td>\n      <td>Full-time Distance Education</td>\n      <td>1</td>\n      <td>1</td>\n      <td>0</td>\n      <td>1</td>\n      <td>0</td>\n      <td>1</td>\n      <td>9</td>\n      <td>...</td>\n      <td>0</td>\n      <td>0</td>\n      <td>0</td>\n      <td>1</td>\n      <td>0</td>\n      <td>0</td>\n      <td>0</td>\n      <td>0</td>\n      <td>0</td>\n      <td>0</td>\n    </tr>\n    <tr>\n      <th>1</th>\n      <td>9</td>\n      <td>2021</td>\n      <td>Full-time Distance Education</td>\n      <td>1</td>\n      <td>1</td>\n      <td>0</td>\n      <td>0</td>\n      <td>3</td>\n      <td>1</td>\n      <td>9</td>\n      <td>...</td>\n      <td>0</td>\n      <td>0</td>\n      <td>0</td>\n      <td>1</td>\n      <td>0</td>\n      <td>0</td>\n      <td>0</td>\n      <td>0</td>\n      <td>0</td>\n      <td>0</td>\n    </tr>\n    <tr>\n      <th>2</th>\n      <td>9</td>\n      <td>2022</td>\n      <td>Full-time Distance Education</td>\n      <td>1</td>\n      <td>1</td>\n      <td>0</td>\n      <td>1</td>\n      <td>0</td>\n      <td>1</td>\n      <td>9</td>\n      <td>...</td>\n      <td>0</td>\n      <td>0</td>\n      <td>0</td>\n      <td>1</td>\n      <td>0</td>\n      <td>0</td>\n      <td>0</td>\n      <td>0</td>\n      <td>0</td>\n      <td>0</td>\n    </tr>\n    <tr>\n      <th>3</th>\n      <td>9</td>\n      <td>2022</td>\n      <td>Full-time Distance Education</td>\n      <td>1</td>\n      <td>1</td>\n      <td>0</td>\n      <td>1</td>\n      <td>1</td>\n      <td>1</td>\n      <td>9</td>\n      <td>...</td>\n      <td>0</td>\n      <td>0</td>\n      <td>0</td>\n      <td>1</td>\n      <td>0</td>\n      <td>0</td>\n      <td>0</td>\n      <td>0</td>\n      <td>0</td>\n      <td>0</td>\n    </tr>\n    <tr>\n      <th>4</th>\n      <td>9</td>\n      <td>2022</td>\n      <td>Full-time Distance Education</td>\n      <td>1</td>\n      <td>1</td>\n      <td>0</td>\n      <td>1</td>\n      <td>3</td>\n      <td>1</td>\n      <td>9</td>\n      <td>...</td>\n      <td>0</td>\n      <td>0</td>\n      <td>0</td>\n      <td>1</td>\n      <td>0</td>\n      <td>0</td>\n      <td>0</td>\n      <td>0</td>\n      <td>0</td>\n      <td>0</td>\n    </tr>\n    <tr>\n      <th>...</th>\n      <td>...</td>\n      <td>...</td>\n      <td>...</td>\n      <td>...</td>\n      <td>...</td>\n      <td>...</td>\n      <td>...</td>\n      <td>...</td>\n      <td>...</td>\n      <td>...</td>\n      <td>...</td>\n      <td>...</td>\n      <td>...</td>\n      <td>...</td>\n      <td>...</td>\n      <td>...</td>\n      <td>...</td>\n      <td>...</td>\n      <td>...</td>\n      <td>...</td>\n      <td>...</td>\n    </tr>\n    <tr>\n      <th>1201</th>\n      <td>9</td>\n      <td>2022</td>\n      <td>Full-time On-Campus</td>\n      <td>0</td>\n      <td>1</td>\n      <td>0</td>\n      <td>1</td>\n      <td>0</td>\n      <td>0</td>\n      <td>3</td>\n      <td>...</td>\n      <td>0</td>\n      <td>0</td>\n      <td>0</td>\n      <td>0</td>\n      <td>0</td>\n      <td>0</td>\n      <td>1</td>\n      <td>0</td>\n      <td>0</td>\n      <td>0</td>\n    </tr>\n    <tr>\n      <th>1202</th>\n      <td>9</td>\n      <td>2023</td>\n      <td>Full-time On-Campus</td>\n      <td>0</td>\n      <td>1</td>\n      <td>0</td>\n      <td>0</td>\n      <td>1</td>\n      <td>0</td>\n      <td>10</td>\n      <td>...</td>\n      <td>0</td>\n      <td>0</td>\n      <td>0</td>\n      <td>0</td>\n      <td>0</td>\n      <td>0</td>\n      <td>1</td>\n      <td>0</td>\n      <td>0</td>\n      <td>0</td>\n    </tr>\n    <tr>\n      <th>1203</th>\n      <td>9</td>\n      <td>2023</td>\n      <td>Full-time On-Campus</td>\n      <td>0</td>\n      <td>1</td>\n      <td>0</td>\n      <td>1</td>\n      <td>3</td>\n      <td>0</td>\n      <td>10</td>\n      <td>...</td>\n      <td>0</td>\n      <td>0</td>\n      <td>0</td>\n      <td>0</td>\n      <td>0</td>\n      <td>0</td>\n      <td>1</td>\n      <td>0</td>\n      <td>0</td>\n      <td>0</td>\n    </tr>\n    <tr>\n      <th>1204</th>\n      <td>9</td>\n      <td>2021</td>\n      <td>Part-time Distance Education</td>\n      <td>1</td>\n      <td>0</td>\n      <td>1</td>\n      <td>0</td>\n      <td>3</td>\n      <td>0</td>\n      <td>10</td>\n      <td>...</td>\n      <td>0</td>\n      <td>0</td>\n      <td>0</td>\n      <td>0</td>\n      <td>0</td>\n      <td>0</td>\n      <td>0</td>\n      <td>0</td>\n      <td>0</td>\n      <td>1</td>\n    </tr>\n    <tr>\n      <th>1205</th>\n      <td>9</td>\n      <td>2023</td>\n      <td>Part-time Distance Education</td>\n      <td>1</td>\n      <td>0</td>\n      <td>0</td>\n      <td>1</td>\n      <td>3</td>\n      <td>0</td>\n      <td>6</td>\n      <td>...</td>\n      <td>0</td>\n      <td>0</td>\n      <td>0</td>\n      <td>0</td>\n      <td>1</td>\n      <td>0</td>\n      <td>0</td>\n      <td>0</td>\n      <td>0</td>\n      <td>0</td>\n    </tr>\n  </tbody>\n</table>\n<p>1206 rows × 298 columns</p>\n</div>"
     },
     "metadata": {},
     "execution_count": 5
    },
    {
     "output_type": "execute_result",
     "data": {
      "text/plain": [
       "        University     GradTime     Distance         Full         STEM  \\\n",
       "count  8208.000000  8208.000000  8208.000000  8208.000000  8208.000000   \n",
       "mean      7.992446  2021.986111     0.316155     0.875975     0.306043   \n",
       "std       3.226881     0.831072     0.465003     0.329631     0.460876   \n",
       "min       1.000000  2021.000000     0.000000     0.000000     0.000000   \n",
       "25%       6.000000  2021.000000     0.000000     1.000000     0.000000   \n",
       "50%       8.000000  2022.000000     0.000000     1.000000     0.000000   \n",
       "75%      10.000000  2023.000000     1.000000     1.000000     1.000000   \n",
       "max      14.000000  2023.000000     1.000000     1.000000     1.000000   \n",
       "\n",
       "       Alcareerlearn       StayAL  AL Resident  StateHScode         ALHS  ...  \\\n",
       "count    8208.000000  8208.000000  8208.000000  8208.000000  8208.000000  ...   \n",
       "mean        0.725268     1.630361     0.642544     7.299464    35.311160  ...   \n",
       "std         0.446406     1.250832     0.479280     2.649684    42.808088  ...   \n",
       "min         0.000000     0.000000     0.000000     1.000000     0.000000  ...   \n",
       "25%         0.000000     1.000000     0.000000     4.000000     3.000000  ...   \n",
       "50%         1.000000     1.000000     1.000000     9.000000    10.000000  ...   \n",
       "75%         1.000000     3.000000     1.000000     9.000000    99.000000  ...   \n",
       "max         1.000000     3.000000     1.000000    10.000000    99.000000  ...   \n",
       "\n",
       "       Major Code_Other, Social Sciences  \\\n",
       "count                        8208.000000   \n",
       "mean                            0.009259   \n",
       "std                             0.095784   \n",
       "min                             0.000000   \n",
       "25%                             0.000000   \n",
       "50%                             0.000000   \n",
       "75%                             0.000000   \n",
       "max                             1.000000   \n",
       "\n",
       "       Major Code_Science, Technology, Engineering and Mathematics  \\\n",
       "count                                        8208.000000             \n",
       "mean                                            0.224415             \n",
       "std                                             0.417222             \n",
       "min                                             0.000000             \n",
       "25%                                             0.000000             \n",
       "50%                                             0.000000             \n",
       "75%                                             0.000000             \n",
       "max                                             1.000000             \n",
       "\n",
       "       Major Code_Transportation, Distribution and Logistics  \\\n",
       "count                                        8208.000000       \n",
       "mean                                            0.009990       \n",
       "std                                             0.099457       \n",
       "min                                             0.000000       \n",
       "25%                                             0.000000       \n",
       "50%                                             0.000000       \n",
       "75%                                             0.000000       \n",
       "max                                             1.000000       \n",
       "\n",
       "       Major Code Revised_Arts, A/V Technology and Communications  \\\n",
       "count                                        8208.000000            \n",
       "mean                                            0.076633            \n",
       "std                                             0.266024            \n",
       "min                                             0.000000            \n",
       "25%                                             0.000000            \n",
       "50%                                             0.000000            \n",
       "75%                                             0.000000            \n",
       "max                                             1.000000            \n",
       "\n",
       "       Major Code Revised_Business Management and Administration  \\\n",
       "count                                        8208.000000           \n",
       "mean                                            0.187135           \n",
       "std                                             0.390043           \n",
       "min                                             0.000000           \n",
       "25%                                             0.000000           \n",
       "50%                                             0.000000           \n",
       "75%                                             0.000000           \n",
       "max                                             1.000000           \n",
       "\n",
       "       Major Code Revised_Education and Training  \\\n",
       "count                                8208.000000   \n",
       "mean                                    0.144737   \n",
       "std                                     0.351857   \n",
       "min                                     0.000000   \n",
       "25%                                     0.000000   \n",
       "50%                                     0.000000   \n",
       "75%                                     0.000000   \n",
       "max                                     1.000000   \n",
       "\n",
       "       Major Code Revised_Health Sciences  Major Code Revised_Human Services  \\\n",
       "count                         8208.000000                        8208.000000   \n",
       "mean                             0.145833                           0.126096   \n",
       "std                              0.352961                           0.331978   \n",
       "min                              0.000000                           0.000000   \n",
       "25%                              0.000000                           0.000000   \n",
       "50%                              0.000000                           0.000000   \n",
       "75%                              0.000000                           0.000000   \n",
       "max                              1.000000                           1.000000   \n",
       "\n",
       "       Major Code Revised_Law, Public Safety, Public Administration  \\\n",
       "count                                        8208.000000              \n",
       "mean                                            0.048002              \n",
       "std                                             0.213783              \n",
       "min                                             0.000000              \n",
       "25%                                             0.000000              \n",
       "50%                                             0.000000              \n",
       "75%                                             0.000000              \n",
       "max                                             1.000000              \n",
       "\n",
       "       Major Code Revised_Science, Technology, Engineering and Mathematics  \n",
       "count                                        8208.000000                    \n",
       "mean                                            0.271564                    \n",
       "std                                             0.444793                    \n",
       "min                                             0.000000                    \n",
       "25%                                             0.000000                    \n",
       "50%                                             0.000000                    \n",
       "75%                                             1.000000                    \n",
       "max                                             1.000000                    \n",
       "\n",
       "[8 rows x 337 columns]"
      ],
      "text/html": "<div>\n<style scoped>\n    .dataframe tbody tr th:only-of-type {\n        vertical-align: middle;\n    }\n\n    .dataframe tbody tr th {\n        vertical-align: top;\n    }\n\n    .dataframe thead th {\n        text-align: right;\n    }\n</style>\n<table border=\"1\" class=\"dataframe\">\n  <thead>\n    <tr style=\"text-align: right;\">\n      <th></th>\n      <th>University</th>\n      <th>GradTime</th>\n      <th>Distance</th>\n      <th>Full</th>\n      <th>STEM</th>\n      <th>Alcareerlearn</th>\n      <th>StayAL</th>\n      <th>AL Resident</th>\n      <th>StateHScode</th>\n      <th>ALHS</th>\n      <th>...</th>\n      <th>Major Code_Other, Social Sciences</th>\n      <th>Major Code_Science, Technology, Engineering and Mathematics</th>\n      <th>Major Code_Transportation, Distribution and Logistics</th>\n      <th>Major Code Revised_Arts, A/V Technology and Communications</th>\n      <th>Major Code Revised_Business Management and Administration</th>\n      <th>Major Code Revised_Education and Training</th>\n      <th>Major Code Revised_Health Sciences</th>\n      <th>Major Code Revised_Human Services</th>\n      <th>Major Code Revised_Law, Public Safety, Public Administration</th>\n      <th>Major Code Revised_Science, Technology, Engineering and Mathematics</th>\n    </tr>\n  </thead>\n  <tbody>\n    <tr>\n      <th>count</th>\n      <td>8208.000000</td>\n      <td>8208.000000</td>\n      <td>8208.000000</td>\n      <td>8208.000000</td>\n      <td>8208.000000</td>\n      <td>8208.000000</td>\n      <td>8208.000000</td>\n      <td>8208.000000</td>\n      <td>8208.000000</td>\n      <td>8208.000000</td>\n      <td>...</td>\n      <td>8208.000000</td>\n      <td>8208.000000</td>\n      <td>8208.000000</td>\n      <td>8208.000000</td>\n      <td>8208.000000</td>\n      <td>8208.000000</td>\n      <td>8208.000000</td>\n      <td>8208.000000</td>\n      <td>8208.000000</td>\n      <td>8208.000000</td>\n    </tr>\n    <tr>\n      <th>mean</th>\n      <td>7.992446</td>\n      <td>2021.986111</td>\n      <td>0.316155</td>\n      <td>0.875975</td>\n      <td>0.306043</td>\n      <td>0.725268</td>\n      <td>1.630361</td>\n      <td>0.642544</td>\n      <td>7.299464</td>\n      <td>35.311160</td>\n      <td>...</td>\n      <td>0.009259</td>\n      <td>0.224415</td>\n      <td>0.009990</td>\n      <td>0.076633</td>\n      <td>0.187135</td>\n      <td>0.144737</td>\n      <td>0.145833</td>\n      <td>0.126096</td>\n      <td>0.048002</td>\n      <td>0.271564</td>\n    </tr>\n    <tr>\n      <th>std</th>\n      <td>3.226881</td>\n      <td>0.831072</td>\n      <td>0.465003</td>\n      <td>0.329631</td>\n      <td>0.460876</td>\n      <td>0.446406</td>\n      <td>1.250832</td>\n      <td>0.479280</td>\n      <td>2.649684</td>\n      <td>42.808088</td>\n      <td>...</td>\n      <td>0.095784</td>\n      <td>0.417222</td>\n      <td>0.099457</td>\n      <td>0.266024</td>\n      <td>0.390043</td>\n      <td>0.351857</td>\n      <td>0.352961</td>\n      <td>0.331978</td>\n      <td>0.213783</td>\n      <td>0.444793</td>\n    </tr>\n    <tr>\n      <th>min</th>\n      <td>1.000000</td>\n      <td>2021.000000</td>\n      <td>0.000000</td>\n      <td>0.000000</td>\n      <td>0.000000</td>\n      <td>0.000000</td>\n      <td>0.000000</td>\n      <td>0.000000</td>\n      <td>1.000000</td>\n      <td>0.000000</td>\n      <td>...</td>\n      <td>0.000000</td>\n      <td>0.000000</td>\n      <td>0.000000</td>\n      <td>0.000000</td>\n      <td>0.000000</td>\n      <td>0.000000</td>\n      <td>0.000000</td>\n      <td>0.000000</td>\n      <td>0.000000</td>\n      <td>0.000000</td>\n    </tr>\n    <tr>\n      <th>25%</th>\n      <td>6.000000</td>\n      <td>2021.000000</td>\n      <td>0.000000</td>\n      <td>1.000000</td>\n      <td>0.000000</td>\n      <td>0.000000</td>\n      <td>1.000000</td>\n      <td>0.000000</td>\n      <td>4.000000</td>\n      <td>3.000000</td>\n      <td>...</td>\n      <td>0.000000</td>\n      <td>0.000000</td>\n      <td>0.000000</td>\n      <td>0.000000</td>\n      <td>0.000000</td>\n      <td>0.000000</td>\n      <td>0.000000</td>\n      <td>0.000000</td>\n      <td>0.000000</td>\n      <td>0.000000</td>\n    </tr>\n    <tr>\n      <th>50%</th>\n      <td>8.000000</td>\n      <td>2022.000000</td>\n      <td>0.000000</td>\n      <td>1.000000</td>\n      <td>0.000000</td>\n      <td>1.000000</td>\n      <td>1.000000</td>\n      <td>1.000000</td>\n      <td>9.000000</td>\n      <td>10.000000</td>\n      <td>...</td>\n      <td>0.000000</td>\n      <td>0.000000</td>\n      <td>0.000000</td>\n      <td>0.000000</td>\n      <td>0.000000</td>\n      <td>0.000000</td>\n      <td>0.000000</td>\n      <td>0.000000</td>\n      <td>0.000000</td>\n      <td>0.000000</td>\n    </tr>\n    <tr>\n      <th>75%</th>\n      <td>10.000000</td>\n      <td>2023.000000</td>\n      <td>1.000000</td>\n      <td>1.000000</td>\n      <td>1.000000</td>\n      <td>1.000000</td>\n      <td>3.000000</td>\n      <td>1.000000</td>\n      <td>9.000000</td>\n      <td>99.000000</td>\n      <td>...</td>\n      <td>0.000000</td>\n      <td>0.000000</td>\n      <td>0.000000</td>\n      <td>0.000000</td>\n      <td>0.000000</td>\n      <td>0.000000</td>\n      <td>0.000000</td>\n      <td>0.000000</td>\n      <td>0.000000</td>\n      <td>1.000000</td>\n    </tr>\n    <tr>\n      <th>max</th>\n      <td>14.000000</td>\n      <td>2023.000000</td>\n      <td>1.000000</td>\n      <td>1.000000</td>\n      <td>1.000000</td>\n      <td>1.000000</td>\n      <td>3.000000</td>\n      <td>1.000000</td>\n      <td>10.000000</td>\n      <td>99.000000</td>\n      <td>...</td>\n      <td>1.000000</td>\n      <td>1.000000</td>\n      <td>1.000000</td>\n      <td>1.000000</td>\n      <td>1.000000</td>\n      <td>1.000000</td>\n      <td>1.000000</td>\n      <td>1.000000</td>\n      <td>1.000000</td>\n      <td>1.000000</td>\n    </tr>\n  </tbody>\n</table>\n<p>8 rows × 337 columns</p>\n</div>"
     },
     "metadata": {},
     "execution_count": 5
    }
   ],
   "source": [
    "# Use get dummies for one hot encoding \n",
    "# pd.get_dummies(data.University, prefix='University Code')\n",
    "readData = pd.get_dummies(data, columns=['Race','StateHS','Major','Major Code', 'Major Code Revised'])\n",
    "readAlabamaData = pd.get_dummies(alabamaData, columns=['Race','StateHS','Major','Major Code', 'Major Code Revised'])\n",
    "\n",
    "readData\n",
    "readAlabamaData.describe()\n",
    "# data = pd.concat([data, rd], axis=1)\n",
    "# data\n",
    "# print(data)"
   ]
  },
  {
   "cell_type": "code",
   "execution_count": 7,
   "metadata": {},
   "outputs": [
    {
     "output_type": "execute_result",
     "data": {
      "text/plain": [
       "3    539\n",
       "1    383\n",
       "0    284\n",
       "Name: StayAL, dtype: int64"
      ]
     },
     "metadata": {},
     "execution_count": 7
    },
    {
     "output_type": "execute_result",
     "data": {
      "text/plain": [
       "3    3546\n",
       "1    2744\n",
       "0    1918\n",
       "Name: StayAL, dtype: int64"
      ]
     },
     "metadata": {},
     "execution_count": 7
    }
   ],
   "source": [
    "readData['StayAL'].value_counts()\n",
    "alabamaData['StayAL'].value_counts()"
   ]
  },
  {
   "cell_type": "code",
   "execution_count": null,
   "metadata": {},
   "outputs": [],
   "source": [
    "# A useful function for changing strings \n",
    "# for i in list(data.columns):\n",
    "#     data[i] = data[i].apply(lambda x: str(x)).apply(lambda x: x.replace('|' , ','))\n",
    "# data = data[~data.columns.duplicated()]\n",
    "alabamaData.describe()"
   ]
  },
  {
   "cell_type": "code",
   "execution_count": null,
   "metadata": {},
   "outputs": [],
   "source": [
    "# renaming columns\n",
    "pd.options.display.max_columns = 300\n",
    "pd.options.display.max_rows = 10\n",
    "# readData\n",
    "readAlabamaData\n",
    "# data = data.rename(columns = {'_Virginia': 'Virginia'})\n",
    "# data\n",
    "# Regressiona"
   ]
  },
  {
   "cell_type": "code",
   "execution_count": null,
   "metadata": {},
   "outputs": [],
   "source": [
    "x = alabamaData.iloc[:, 0].values.reshape(-1,1) #original is 8208 rows\n",
    "y = data.iloc[:, 1].values.reshape(-1,1) #1206 rows \n",
    "# fix above this line. \n",
    "\n",
    "lin_reg = LinearRegression()\n",
    "lin_reg.fit(x, y)\n",
    "lin_reg.intercept_, lin_reg.coef_\n",
    "prayingToGod = lin_reg.predict(x)\n",
    "# \n",
    "plt.scatter(x,y)\n",
    "plt.plot(x,prayingToGod,color='blue')\n",
    "plt.show()"
   ]
  },
  {
   "cell_type": "code",
   "execution_count": null,
   "metadata": {},
   "outputs": [],
   "source": [
    "# to make this notebook's output stable across runs\n",
    "np.random.seed(42)\n",
    "\n",
    "# To plot pretty figures\n",
    "%matplotlib inline\n",
    "import matplotlib as mpl\n",
    "mpl.rc('axes', labelsize=14)\n",
    "mpl.rc('xtick', labelsize=12)\n",
    "mpl.rc('ytick', labelsize=12)\n",
    "\n"
   ]
  },
  {
   "cell_type": "markdown",
   "metadata": {},
   "source": [
    "# Model Validation"
   ]
  },
  {
   "cell_type": "markdown",
   "metadata": {},
   "source": [
    "# "
   ]
  },
  {
   "cell_type": "code",
   "execution_count": null,
   "metadata": {},
   "outputs": [],
   "source": []
  },
  {
   "cell_type": "code",
   "execution_count": null,
   "metadata": {},
   "outputs": [],
   "source": []
  },
  {
   "cell_type": "code",
   "execution_count": null,
   "metadata": {},
   "outputs": [],
   "source": []
  },
  {
   "cell_type": "code",
   "execution_count": null,
   "metadata": {},
   "outputs": [],
   "source": []
  }
 ],
 "metadata": {
  "kernelspec": {
   "name": "python3",
   "display_name": "Python 3.9.1 64-bit"
  },
  "language_info": {
   "codemirror_mode": {
    "name": "ipython",
    "version": 3
   },
   "file_extension": ".py",
   "mimetype": "text/x-python",
   "name": "python",
   "nbconvert_exporter": "python",
   "pygments_lexer": "ipython3",
   "version": "3.9.1"
  },
  "interpreter": {
   "hash": "7c660e012d33f79d07e1d39cd07c4f538d8019c99abffdbb11ac0ff4d8912368"
  }
 },
 "nbformat": 4,
 "nbformat_minor": 4
}