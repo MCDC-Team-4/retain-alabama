{
 "cells": [
  {
   "cell_type": "markdown",
   "metadata": {},
   "source": [
    "# Install packages\n",
    "\n",
    "First thing is to install pandas, numpy, scikit-learn, matplotlib, and seaborn. Then below you see where we import the packages in our notebook."
   ]
  },
  {
   "cell_type": "code",
   "execution_count": 1,
   "metadata": {},
   "outputs": [],
   "source": [
    "import pandas as pd\n",
    "import numpy as np\n",
    "import datetime as dt\n",
    "\n",
    "import matplotlib.pyplot as plt\n",
    "import seaborn as sns\n",
    "\n",
    "from sklearn.model_selection import train_test_split, RandomizedSearchCV, GridSearchCV\n",
    "\n",
    "from sklearn.linear_model import LinearRegression, LogisticRegression, Ridge, ElasticNet, Lasso\n",
    "from sklearn.metrics import classification_report, mean_squared_error, confusion_matrix, plot_confusion_matrix, accuracy_score, roc_auc_score, precision_score, recall_score, f1_score, roc_curve, auc\n",
    "from sklearn.preprocessing import StandardScaler\n",
    "\n"
   ]
  },
  {
   "cell_type": "markdown",
   "metadata": {},
   "source": [
    "# Import the data and start exploring it"
   ]
  },
  {
   "cell_type": "code",
   "execution_count": 42,
   "metadata": {
    "scrolled": true
   },
   "outputs": [
    {
     "output_type": "execute_result",
     "data": {
      "text/plain": [
       "   University  GradTime                          FTPT  Distance  Full  STEM  \\\n",
       "0           9      2021  Full-time Distance Education         1     1     0   \n",
       "1           9      2021  Full-time Distance Education         1     1     0   \n",
       "2           9      2022  Full-time Distance Education         1     1     0   \n",
       "3           9      2022  Full-time Distance Education         1     1     0   \n",
       "4           9      2022  Full-time Distance Education         1     1     0   \n",
       "\n",
       "   Alcareerlearn  StayAL  AL Resident  StateHS  ...  AL Resident.1  StateHS.1  \\\n",
       "0              1       0            1  Alabama  ...            1.0    Alabama   \n",
       "1              0       3            1  Alabama  ...            1.0    Alabama   \n",
       "2              1       0            1  Alabama  ...            1.0    Alabama   \n",
       "3              1       1            1  Alabama  ...            1.0    Alabama   \n",
       "4              1       3            1  Alabama  ...            1.0    Alabama   \n",
       "\n",
       "   StateHScode.1 ALHS.1  Gender.1                     Race.1  Race Code.1  \\\n",
       "0              9    3.0         1          Two or More Races            5   \n",
       "1              9    3.0         1                      Asian            1   \n",
       "2              9    3.0         1  Black or African American            2   \n",
       "3              9   10.0         1                      White            4   \n",
       "4              9    3.0         1           Other or Unknown            6   \n",
       "\n",
       "   Age.1 Disability.1 FirstGEn.1  \n",
       "0      2          0.0        0.0  \n",
       "1      3          0.0        0.0  \n",
       "2      2          0.0        1.0  \n",
       "3      2          0.0        0.0  \n",
       "4      2          0.0        1.0  \n",
       "\n",
       "[5 rows x 149 columns]"
      ],
      "text/html": "<div>\n<style scoped>\n    .dataframe tbody tr th:only-of-type {\n        vertical-align: middle;\n    }\n\n    .dataframe tbody tr th {\n        vertical-align: top;\n    }\n\n    .dataframe thead th {\n        text-align: right;\n    }\n</style>\n<table border=\"1\" class=\"dataframe\">\n  <thead>\n    <tr style=\"text-align: right;\">\n      <th></th>\n      <th>University</th>\n      <th>GradTime</th>\n      <th>FTPT</th>\n      <th>Distance</th>\n      <th>Full</th>\n      <th>STEM</th>\n      <th>Alcareerlearn</th>\n      <th>StayAL</th>\n      <th>AL Resident</th>\n      <th>StateHS</th>\n      <th>...</th>\n      <th>AL Resident.1</th>\n      <th>StateHS.1</th>\n      <th>StateHScode.1</th>\n      <th>ALHS.1</th>\n      <th>Gender.1</th>\n      <th>Race.1</th>\n      <th>Race Code.1</th>\n      <th>Age.1</th>\n      <th>Disability.1</th>\n      <th>FirstGEn.1</th>\n    </tr>\n  </thead>\n  <tbody>\n    <tr>\n      <th>0</th>\n      <td>9</td>\n      <td>2021</td>\n      <td>Full-time Distance Education</td>\n      <td>1</td>\n      <td>1</td>\n      <td>0</td>\n      <td>1</td>\n      <td>0</td>\n      <td>1</td>\n      <td>Alabama</td>\n      <td>...</td>\n      <td>1.0</td>\n      <td>Alabama</td>\n      <td>9</td>\n      <td>3.0</td>\n      <td>1</td>\n      <td>Two or More Races</td>\n      <td>5</td>\n      <td>2</td>\n      <td>0.0</td>\n      <td>0.0</td>\n    </tr>\n    <tr>\n      <th>1</th>\n      <td>9</td>\n      <td>2021</td>\n      <td>Full-time Distance Education</td>\n      <td>1</td>\n      <td>1</td>\n      <td>0</td>\n      <td>0</td>\n      <td>3</td>\n      <td>1</td>\n      <td>Alabama</td>\n      <td>...</td>\n      <td>1.0</td>\n      <td>Alabama</td>\n      <td>9</td>\n      <td>3.0</td>\n      <td>1</td>\n      <td>Asian</td>\n      <td>1</td>\n      <td>3</td>\n      <td>0.0</td>\n      <td>0.0</td>\n    </tr>\n    <tr>\n      <th>2</th>\n      <td>9</td>\n      <td>2022</td>\n      <td>Full-time Distance Education</td>\n      <td>1</td>\n      <td>1</td>\n      <td>0</td>\n      <td>1</td>\n      <td>0</td>\n      <td>1</td>\n      <td>Alabama</td>\n      <td>...</td>\n      <td>1.0</td>\n      <td>Alabama</td>\n      <td>9</td>\n      <td>3.0</td>\n      <td>1</td>\n      <td>Black or African American</td>\n      <td>2</td>\n      <td>2</td>\n      <td>0.0</td>\n      <td>1.0</td>\n    </tr>\n    <tr>\n      <th>3</th>\n      <td>9</td>\n      <td>2022</td>\n      <td>Full-time Distance Education</td>\n      <td>1</td>\n      <td>1</td>\n      <td>0</td>\n      <td>1</td>\n      <td>1</td>\n      <td>1</td>\n      <td>Alabama</td>\n      <td>...</td>\n      <td>1.0</td>\n      <td>Alabama</td>\n      <td>9</td>\n      <td>10.0</td>\n      <td>1</td>\n      <td>White</td>\n      <td>4</td>\n      <td>2</td>\n      <td>0.0</td>\n      <td>0.0</td>\n    </tr>\n    <tr>\n      <th>4</th>\n      <td>9</td>\n      <td>2022</td>\n      <td>Full-time Distance Education</td>\n      <td>1</td>\n      <td>1</td>\n      <td>0</td>\n      <td>1</td>\n      <td>3</td>\n      <td>1</td>\n      <td>Alabama</td>\n      <td>...</td>\n      <td>1.0</td>\n      <td>Alabama</td>\n      <td>9</td>\n      <td>3.0</td>\n      <td>1</td>\n      <td>Other or Unknown</td>\n      <td>6</td>\n      <td>2</td>\n      <td>0.0</td>\n      <td>1.0</td>\n    </tr>\n  </tbody>\n</table>\n<p>5 rows × 149 columns</p>\n</div>"
     },
     "metadata": {},
     "execution_count": 42
    }
   ],
   "source": [
    "\n",
    "data = pd.read_csv('../Project Retain Alabama/Survey Data and Info/UABformatChange.csv')\n",
    "data.head()"
   ]
  },
  {
   "cell_type": "markdown",
   "metadata": {},
   "source": [
    "Some commands you could start with : \n",
    "- data.describe()\n",
    "- data.shape\n",
    "- data.isnull().sum()\n",
    "- data['column name'].value_counts()"
   ]
  },
  {
   "cell_type": "markdown",
   "metadata": {},
   "source": [
    "# Transform the Data for Regression"
   ]
  },
  {
   "cell_type": "code",
   "execution_count": 51,
   "metadata": {},
   "outputs": [
    {
     "output_type": "execute_result",
     "data": {
      "text/plain": [
       "      University  GradTime  Distance  Full  STEM  Alcareerlearn  StayAL  \\\n",
       "0              9      2021         1     1     0              1       0   \n",
       "1              9      2021         1     1     0              0       3   \n",
       "2              9      2022         1     1     0              1       0   \n",
       "3              9      2022         1     1     0              1       1   \n",
       "4              9      2022         1     1     0              1       3   \n",
       "...          ...       ...       ...   ...   ...            ...     ...   \n",
       "1201           9      2022         0     1     0              1       0   \n",
       "1202           9      2023         0     1     0              0       1   \n",
       "1203           9      2023         0     1     0              1       3   \n",
       "1204           9      2021         1     0     1              0       3   \n",
       "1205           9      2023         1     0     0              1       3   \n",
       "\n",
       "      AL Resident  StateHScode  ALHS  ...  StateHS.1_nan  \\\n",
       "0               1            9   3.0  ...              0   \n",
       "1               1            9   3.0  ...              0   \n",
       "2               1            9   3.0  ...              0   \n",
       "3               1            9  10.0  ...              0   \n",
       "4               1            9   3.0  ...              0   \n",
       "...           ...          ...   ...  ...            ...   \n",
       "1201            0            3  99.0  ...              0   \n",
       "1202            0           10  99.0  ...              0   \n",
       "1203            0           10  99.0  ...              0   \n",
       "1204            0           10   NaN  ...              0   \n",
       "1205            0            6  99.0  ...              0   \n",
       "\n",
       "      Race.1_American Indian or Alaska Native  Race.1_Asian  \\\n",
       "0                                           0             0   \n",
       "1                                           0             1   \n",
       "2                                           0             0   \n",
       "3                                           0             0   \n",
       "4                                           0             0   \n",
       "...                                       ...           ...   \n",
       "1201                                        0             1   \n",
       "1202                                        0             0   \n",
       "1203                                        0             0   \n",
       "1204                                        0             0   \n",
       "1205                                        0             0   \n",
       "\n",
       "      Race.1_Black or African American  Race.1_Hispanic or Latino  \\\n",
       "0                                    0                          0   \n",
       "1                                    0                          0   \n",
       "2                                    1                          0   \n",
       "3                                    0                          0   \n",
       "4                                    0                          0   \n",
       "...                                ...                        ...   \n",
       "1201                                 0                          0   \n",
       "1202                                 0                          0   \n",
       "1203                                 1                          0   \n",
       "1204                                 0                          0   \n",
       "1205                                 1                          0   \n",
       "\n",
       "      Race.1_Native Hawaiian or Other Pacific Islander  \\\n",
       "0                                                    0   \n",
       "1                                                    0   \n",
       "2                                                    0   \n",
       "3                                                    0   \n",
       "4                                                    0   \n",
       "...                                                ...   \n",
       "1201                                                 0   \n",
       "1202                                                 0   \n",
       "1203                                                 0   \n",
       "1204                                                 0   \n",
       "1205                                                 0   \n",
       "\n",
       "      Race.1_Other or Unknown  Race.1_Two or More Races  Race.1_White  \\\n",
       "0                           0                         1             0   \n",
       "1                           0                         0             0   \n",
       "2                           0                         0             0   \n",
       "3                           0                         0             1   \n",
       "4                           1                         0             0   \n",
       "...                       ...                       ...           ...   \n",
       "1201                        0                         0             0   \n",
       "1202                        0                         0             1   \n",
       "1203                        0                         0             0   \n",
       "1204                        0                         0             1   \n",
       "1205                        0                         0             0   \n",
       "\n",
       "      Race.1_nan  \n",
       "0              0  \n",
       "1              0  \n",
       "2              0  \n",
       "3              0  \n",
       "4              0  \n",
       "...          ...  \n",
       "1201           0  \n",
       "1202           0  \n",
       "1203           0  \n",
       "1204           0  \n",
       "1205           0  \n",
       "\n",
       "[1206 rows x 353 columns]"
      ],
      "text/html": "<div>\n<style scoped>\n    .dataframe tbody tr th:only-of-type {\n        vertical-align: middle;\n    }\n\n    .dataframe tbody tr th {\n        vertical-align: top;\n    }\n\n    .dataframe thead th {\n        text-align: right;\n    }\n</style>\n<table border=\"1\" class=\"dataframe\">\n  <thead>\n    <tr style=\"text-align: right;\">\n      <th></th>\n      <th>University</th>\n      <th>GradTime</th>\n      <th>Distance</th>\n      <th>Full</th>\n      <th>STEM</th>\n      <th>Alcareerlearn</th>\n      <th>StayAL</th>\n      <th>AL Resident</th>\n      <th>StateHScode</th>\n      <th>ALHS</th>\n      <th>...</th>\n      <th>StateHS.1_nan</th>\n      <th>Race.1_American Indian or Alaska Native</th>\n      <th>Race.1_Asian</th>\n      <th>Race.1_Black or African American</th>\n      <th>Race.1_Hispanic or Latino</th>\n      <th>Race.1_Native Hawaiian or Other Pacific Islander</th>\n      <th>Race.1_Other or Unknown</th>\n      <th>Race.1_Two or More Races</th>\n      <th>Race.1_White</th>\n      <th>Race.1_nan</th>\n    </tr>\n  </thead>\n  <tbody>\n    <tr>\n      <th>0</th>\n      <td>9</td>\n      <td>2021</td>\n      <td>1</td>\n      <td>1</td>\n      <td>0</td>\n      <td>1</td>\n      <td>0</td>\n      <td>1</td>\n      <td>9</td>\n      <td>3.0</td>\n      <td>...</td>\n      <td>0</td>\n      <td>0</td>\n      <td>0</td>\n      <td>0</td>\n      <td>0</td>\n      <td>0</td>\n      <td>0</td>\n      <td>1</td>\n      <td>0</td>\n      <td>0</td>\n    </tr>\n    <tr>\n      <th>1</th>\n      <td>9</td>\n      <td>2021</td>\n      <td>1</td>\n      <td>1</td>\n      <td>0</td>\n      <td>0</td>\n      <td>3</td>\n      <td>1</td>\n      <td>9</td>\n      <td>3.0</td>\n      <td>...</td>\n      <td>0</td>\n      <td>0</td>\n      <td>1</td>\n      <td>0</td>\n      <td>0</td>\n      <td>0</td>\n      <td>0</td>\n      <td>0</td>\n      <td>0</td>\n      <td>0</td>\n    </tr>\n    <tr>\n      <th>2</th>\n      <td>9</td>\n      <td>2022</td>\n      <td>1</td>\n      <td>1</td>\n      <td>0</td>\n      <td>1</td>\n      <td>0</td>\n      <td>1</td>\n      <td>9</td>\n      <td>3.0</td>\n      <td>...</td>\n      <td>0</td>\n      <td>0</td>\n      <td>0</td>\n      <td>1</td>\n      <td>0</td>\n      <td>0</td>\n      <td>0</td>\n      <td>0</td>\n      <td>0</td>\n      <td>0</td>\n    </tr>\n    <tr>\n      <th>3</th>\n      <td>9</td>\n      <td>2022</td>\n      <td>1</td>\n      <td>1</td>\n      <td>0</td>\n      <td>1</td>\n      <td>1</td>\n      <td>1</td>\n      <td>9</td>\n      <td>10.0</td>\n      <td>...</td>\n      <td>0</td>\n      <td>0</td>\n      <td>0</td>\n      <td>0</td>\n      <td>0</td>\n      <td>0</td>\n      <td>0</td>\n      <td>0</td>\n      <td>1</td>\n      <td>0</td>\n    </tr>\n    <tr>\n      <th>4</th>\n      <td>9</td>\n      <td>2022</td>\n      <td>1</td>\n      <td>1</td>\n      <td>0</td>\n      <td>1</td>\n      <td>3</td>\n      <td>1</td>\n      <td>9</td>\n      <td>3.0</td>\n      <td>...</td>\n      <td>0</td>\n      <td>0</td>\n      <td>0</td>\n      <td>0</td>\n      <td>0</td>\n      <td>0</td>\n      <td>1</td>\n      <td>0</td>\n      <td>0</td>\n      <td>0</td>\n    </tr>\n    <tr>\n      <th>...</th>\n      <td>...</td>\n      <td>...</td>\n      <td>...</td>\n      <td>...</td>\n      <td>...</td>\n      <td>...</td>\n      <td>...</td>\n      <td>...</td>\n      <td>...</td>\n      <td>...</td>\n      <td>...</td>\n      <td>...</td>\n      <td>...</td>\n      <td>...</td>\n      <td>...</td>\n      <td>...</td>\n      <td>...</td>\n      <td>...</td>\n      <td>...</td>\n      <td>...</td>\n      <td>...</td>\n    </tr>\n    <tr>\n      <th>1201</th>\n      <td>9</td>\n      <td>2022</td>\n      <td>0</td>\n      <td>1</td>\n      <td>0</td>\n      <td>1</td>\n      <td>0</td>\n      <td>0</td>\n      <td>3</td>\n      <td>99.0</td>\n      <td>...</td>\n      <td>0</td>\n      <td>0</td>\n      <td>1</td>\n      <td>0</td>\n      <td>0</td>\n      <td>0</td>\n      <td>0</td>\n      <td>0</td>\n      <td>0</td>\n      <td>0</td>\n    </tr>\n    <tr>\n      <th>1202</th>\n      <td>9</td>\n      <td>2023</td>\n      <td>0</td>\n      <td>1</td>\n      <td>0</td>\n      <td>0</td>\n      <td>1</td>\n      <td>0</td>\n      <td>10</td>\n      <td>99.0</td>\n      <td>...</td>\n      <td>0</td>\n      <td>0</td>\n      <td>0</td>\n      <td>0</td>\n      <td>0</td>\n      <td>0</td>\n      <td>0</td>\n      <td>0</td>\n      <td>1</td>\n      <td>0</td>\n    </tr>\n    <tr>\n      <th>1203</th>\n      <td>9</td>\n      <td>2023</td>\n      <td>0</td>\n      <td>1</td>\n      <td>0</td>\n      <td>1</td>\n      <td>3</td>\n      <td>0</td>\n      <td>10</td>\n      <td>99.0</td>\n      <td>...</td>\n      <td>0</td>\n      <td>0</td>\n      <td>0</td>\n      <td>1</td>\n      <td>0</td>\n      <td>0</td>\n      <td>0</td>\n      <td>0</td>\n      <td>0</td>\n      <td>0</td>\n    </tr>\n    <tr>\n      <th>1204</th>\n      <td>9</td>\n      <td>2021</td>\n      <td>1</td>\n      <td>0</td>\n      <td>1</td>\n      <td>0</td>\n      <td>3</td>\n      <td>0</td>\n      <td>10</td>\n      <td>NaN</td>\n      <td>...</td>\n      <td>0</td>\n      <td>0</td>\n      <td>0</td>\n      <td>0</td>\n      <td>0</td>\n      <td>0</td>\n      <td>0</td>\n      <td>0</td>\n      <td>1</td>\n      <td>0</td>\n    </tr>\n    <tr>\n      <th>1205</th>\n      <td>9</td>\n      <td>2023</td>\n      <td>1</td>\n      <td>0</td>\n      <td>0</td>\n      <td>1</td>\n      <td>3</td>\n      <td>0</td>\n      <td>6</td>\n      <td>99.0</td>\n      <td>...</td>\n      <td>0</td>\n      <td>0</td>\n      <td>0</td>\n      <td>1</td>\n      <td>0</td>\n      <td>0</td>\n      <td>0</td>\n      <td>0</td>\n      <td>0</td>\n      <td>0</td>\n    </tr>\n  </tbody>\n</table>\n<p>1206 rows × 353 columns</p>\n</div>"
     },
     "metadata": {},
     "execution_count": 51
    }
   ],
   "source": [
    "# Use get dummies for one hot encoding \n",
    "# pd.get_dummies(data.University, prefix='University Code')\n",
    "rd = pd.get_dummies(data, dummy_na=True)\n",
    "rd\n",
    "\n",
    "# print(data)"
   ]
  },
  {
   "cell_type": "code",
   "execution_count": 18,
   "metadata": {},
   "outputs": [],
   "source": [
    "# A useful function for changing strings \n",
    "for i in list(data.columns):\n",
    "    data[i] = data[i].apply(lambda x: str(x)).apply(lambda x: x.replace('|' , ','))"
   ]
  },
  {
   "cell_type": "code",
   "execution_count": 15,
   "metadata": {},
   "outputs": [
    {
     "output_type": "stream",
     "name": "stdout",
     "text": [
      "      University  GradTime                          FTPT  Distance  Full  \\\n0              9      2022  Full-time Distance Education       NaN     1   \n1              9      2021  Full-time Distance Education       NaN     1   \n2              9      2023  Full-time Distance Education       NaN     1   \n3              9      2021  Full-time Distance Education       NaN     1   \n4              9      2023  Part-time Distance Education       NaN     0   \n...          ...       ...                           ...       ...   ...   \n1202           9      2023  Part-time Distance Education       NaN     0   \n1203           9      2022           Full-time On-Campus       NaN     0   \n1204           9      2021           Full-time On-Campus       NaN     0   \n1205           9      2022           Part-time On-Campus       NaN     0   \n1206           9      2022           Full-time On-Campus       NaN     0   \n\n      STEM  Alcareerlearn  StayAL  AL Resident  StateHS  ...  AL Resident.1  \\\n0      1.0            1.0       4          NaN      NaN  ...            NaN   \n1      1.0            1.0       4          NaN      NaN  ...            NaN   \n2      1.0            1.0       3          NaN      NaN  ...            NaN   \n3      1.0            0.0       2          NaN      NaN  ...            NaN   \n4      1.0            1.0       1          NaN      NaN  ...            NaN   \n...    ...            ...     ...          ...      ...  ...            ...   \n1202   0.0            0.0       2          NaN      NaN  ...            NaN   \n1203   0.0            0.0       2          NaN      NaN  ...            NaN   \n1204   0.0            1.0       1          NaN      NaN  ...            NaN   \n1205   0.0            1.0       2          NaN      NaN  ...            NaN   \n1206   0.0            NaN       2          NaN      NaN  ...            NaN   \n\n      StateHS.1  StateHScode.1  ALHS.1  Gender.1  Race.1  Race Code.1  Age.1  \\\n0           NaN            NaN     NaN       NaN     NaN          NaN    NaN   \n1           NaN            NaN     NaN       NaN     NaN          NaN    NaN   \n2           NaN            NaN     NaN       NaN     NaN          NaN    NaN   \n3           NaN            NaN     NaN       NaN     NaN          NaN    NaN   \n4           NaN            NaN     NaN       NaN     NaN          NaN    NaN   \n...         ...            ...     ...       ...     ...          ...    ...   \n1202        NaN            NaN     NaN       NaN     NaN          NaN    NaN   \n1203        NaN            NaN     NaN       NaN     NaN          NaN    NaN   \n1204        NaN            NaN     NaN       NaN     NaN          NaN    NaN   \n1205        NaN            NaN     NaN       NaN     NaN          NaN    NaN   \n1206        NaN            NaN     NaN       NaN     NaN          NaN    NaN   \n\n      Disability.1  FirstGEn.1  \n0              NaN         NaN  \n1              NaN         NaN  \n2              NaN         NaN  \n3              NaN         NaN  \n4              NaN         NaN  \n...            ...         ...  \n1202           NaN         NaN  \n1203           NaN         NaN  \n1204           NaN         NaN  \n1205           NaN         NaN  \n1206           NaN         NaN  \n\n[1207 rows x 150 columns]\n"
     ]
    }
   ],
   "source": [
    "# renaming columns\n",
    "\n",
    "data = data.rename(columns = {'University_9_1': 'UAB'})\n",
    "print(data)\n",
    "# Regression"
   ]
  },
  {
   "cell_type": "code",
   "execution_count": null,
   "metadata": {},
   "outputs": [],
   "source": [
    "lin_reg = LinearRegression()\n",
    "lin_reg.fit(X, y)\n",
    "lin_reg.intercept_, lin_reg.coef_"
   ]
  },
  {
   "cell_type": "code",
   "execution_count": null,
   "metadata": {},
   "outputs": [],
   "source": []
  },
  {
   "cell_type": "markdown",
   "metadata": {},
   "source": [
    "# Model Validation"
   ]
  },
  {
   "cell_type": "markdown",
   "metadata": {},
   "source": [
    "# "
   ]
  },
  {
   "cell_type": "code",
   "execution_count": null,
   "metadata": {},
   "outputs": [],
   "source": []
  },
  {
   "cell_type": "code",
   "execution_count": null,
   "metadata": {},
   "outputs": [],
   "source": []
  },
  {
   "cell_type": "code",
   "execution_count": null,
   "metadata": {},
   "outputs": [],
   "source": []
  },
  {
   "cell_type": "code",
   "execution_count": null,
   "metadata": {},
   "outputs": [],
   "source": []
  }
 ],
 "metadata": {
  "kernelspec": {
   "name": "python3",
   "display_name": "Python 3.9.1 64-bit"
  },
  "language_info": {
   "codemirror_mode": {
    "name": "ipython",
    "version": 3
   },
   "file_extension": ".py",
   "mimetype": "text/x-python",
   "name": "python",
   "nbconvert_exporter": "python",
   "pygments_lexer": "ipython3",
   "version": "3.9.1"
  },
  "interpreter": {
   "hash": "7c660e012d33f79d07e1d39cd07c4f538d8019c99abffdbb11ac0ff4d8912368"
  }
 },
 "nbformat": 4,
 "nbformat_minor": 4
}