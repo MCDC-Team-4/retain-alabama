{
 "cells": [
  {
   "cell_type": "markdown",
   "metadata": {},
   "source": [
    "# First Stage\n",
    "Transform the chat board into a single and cohesive data set which will allow to do analyze why students stay/ leave alabama.\n",
    "<br> The chat board is organized as a conversation of one interviewer with several people loged in it. The main interaction of the interviewer is asking questions, although she also makes short interactions which for this analysis will be disregarded. <br> \n",
    "The data structure we aim for is the following:\n",
    "\n",
    "* Each person will represent a row.\n",
    "* Each question a column.\n",
    "\n",
    "<br>\n",
    "<br>\n",
    "The first task will be to create the clean data set and evaluate the validity of the data, the steps will be set below. <br>\n",
    "Important questions to keep in mind as additional information is: How many and which are the questions made, How many unique respondants are there, Is it any repeated name, Does everyone answer to all questions.\n"
   ]
  },
  {
   "cell_type": "code",
   "execution_count": 4,
   "metadata": {},
   "outputs": [],
   "source": [
    "#strip the pdf into html format"
   ]
  },
  {
   "cell_type": "code",
   "execution_count": null,
   "metadata": {},
   "outputs": [],
   "source": [
    "#identify the containers referred to the interviewer questions\n",
    "#which are the questions? There should be 34, although they are numerated up until 64"
   ]
  },
  {
   "cell_type": "code",
   "execution_count": null,
   "metadata": {},
   "outputs": [],
   "source": [
    "#find each of the people who answer to each question\n",
    "#save as a data set, name of the person and answer to question"
   ]
  },
  {
   "cell_type": "markdown",
   "metadata": {},
   "source": [
    "I have found this way of making it although it might not be the most efficient one, it could be a quick starter though. Code inspired in: https://www.youtube.com/watch?v=eTz3VZmNPSE"
   ]
  },
  {
   "cell_type": "code",
   "execution_count": 1,
   "metadata": {},
   "outputs": [],
   "source": [
    "import re\n",
    "import requests\n",
    "#!pip install pdfplumber\n",
    "import pdfplumber\n",
    "import pandas as pd\n",
    "from collections import namedtuple"
   ]
  },
  {
   "cell_type": "code",
   "execution_count": 7,
   "metadata": {},
   "outputs": [],
   "source": [
    "#create new str variable\n",
    "text = ''\n",
    "#name of the imported file\n",
    "ap = 'Board 1-In-State Students.pdf'\n",
    "#make a loop that iterates over all pages of the file for an example we use only two pages\n",
    "for i in range(0,15):\n",
    "    with pdfplumber.open(ap) as pdf:\n",
    "          page = pdf.pages[i]\n",
    "          a = page.extract_text()\n",
    "    text = text + a   #add last page to the full text file"
   ]
  },
  {
   "cell_type": "code",
   "execution_count": 6,
   "metadata": {
    "scrolled": true
   },
   "outputs": [
    {
     "name": "stdout",
     "output_type": "stream",
     "text": [
      "College Students - IN-STATE (College Experience)\n",
      "EDPA College Students (College Experience)\n",
      "Day 1 - 34 Questions, 1066 Responses\n",
      "Opened - 4/20/2021 8:01 AM\n",
      "1\n",
      "Parker R (Moderator)\n",
      "Start by telling me a little about yourself. Where did you grow up or where do you call home (city, state)? And, \n",
      "what do you like to do in your free time?\n",
      "Alyx H (4/20/2021 8:04 AM) \n",
      "I grew up in Columbus, Georgia. And I like sleeping in my free time.\n",
      "Parker R (4/20/2021 8:13 AM) \n",
      "Welcome to our discussion, Alyx! We are happy to have you!\n",
      "Alyx H (4/20/2021 8:37 AM) \n",
      "Happy to be here.\n",
      "Brandon B (4/20/2021 8:48 AM) \n",
      "Hello, my name is Brandon Barham and I grew up in Birmingham Alabama. I was originally a Computer \n",
      "Science major and switched to being a Finance major. Things I like to do in my free time would include \n",
      "playing mobile games and playing sports with my friends.\n",
      "Parker R (4/20/2021 8:55 AM) \n",
      "Hi Brandon! Thanks for joining us!  \n",
      "Brandon B (4/20/2021 8:56 AM) \n",
      "Hello, happy to join in.\n",
      "Justin B (4/20/2021 9:26 AM) \n",
      "Home for me is Gulf Shores, AL.  In my free time I'm usually watching Netflix/Hulu or working on personal \n",
      "coding projects. \n",
      "Parker R (4/20/2021 9:35 AM) \n",
      "Hi Justin! Thank you for participating in our discussion. We're glad you're here!Justin B (4/20/2021 9:47 AM) \n",
      "Happy to help!\n",
      "Gabriel M-F (4/20/2021 10:00 AM) \n",
      "Howdy! I grew up in a small city called Tarrant, just a little ways northeast of Birmingham, Alabama. \n",
      "Lately I've been spending my freetime studying up on computer science and cybersecurity concepts, \n",
      "writing stories, programming, watching shows on Hulu, cooking, and getting involved in politics, local \n",
      "and otherwise.\n",
      "Parker R (4/20/2021 10:59 AM) \n",
      "Welcome Gabriel! Thank you for participating!\n",
      "Ian J (4/20/2021 10:34 AM) \n",
      "Am Ian Jefferson,a student in  Alabama State University, taking biological and physical science degree \n",
      "and am now a junior in my university.I love these science because I want to be biochemists in future. \n",
      "My home city is Birmingham and my state is Alabama. \n",
      "When a free I love to visit the laboratory and try and do some practical test especially in my course \n",
      "units,also I participate in basketball games in order to exercise and atleast refresh my mind and avoid \n",
      "hazards of health issue.Also I like to explore various cooking skills in my life because I love delicious \n",
      "foods. \n",
      "Parker R (4/20/2021 10:59 AM) \n",
      "Hi Ian! Thank you for joining!\n",
      "Ian J (4/22/2021 7:45 AM) \n",
      "Thanks you\n",
      "Kate A (4/20/2021 11:39 AM) \n",
      "I am from Birmingham, Alabama. My hobbies include hiking, playing the piano/guitar, reading, and \n",
      "baking.\n",
      "Parker R (4/20/2021 11:45 AM) \n",
      "Welcome to our discussion, Kate!\n",
      "Kate A (4/22/2021 5:36 PM) \n",
      "Happy to be here!\n"
     ]
    }
   ],
   "source": [
    "print(text)"
   ]
  },
  {
   "cell_type": "code",
   "execution_count": 52,
   "metadata": {},
   "outputs": [
    {
     "data": {
      "text/plain": [
       "str"
      ]
     },
     "execution_count": 52,
     "metadata": {},
     "output_type": "execute_result"
    }
   ],
   "source": [
    "type(text)"
   ]
  },
  {
   "cell_type": "code",
   "execution_count": 10,
   "metadata": {},
   "outputs": [],
   "source": [
    "new_question = re.compile(r'Parker R (Moderator)')"
   ]
  },
  {
   "cell_type": "code",
   "execution_count": 13,
   "metadata": {},
   "outputs": [
    {
     "name": "stdout",
     "output_type": "stream",
     "text": [
      "Parker R (Moderator)\n",
      "Parker R (Moderator)\n",
      "Parker R (Moderator)\n"
     ]
    }
   ],
   "source": [
    "for line in text.split('\\n'):\n",
    "    if new_question == line:\n",
    "        print(line)"
   ]
  },
  {
   "cell_type": "code",
   "execution_count": null,
   "metadata": {},
   "outputs": [],
   "source": []
  },
  {
   "cell_type": "markdown",
   "metadata": {},
   "source": [
    "Expected time Day and a half of two people working full time"
   ]
  }
 ],
 "metadata": {
  "kernelspec": {
   "display_name": "Python 3",
   "language": "python",
   "name": "python3"
  },
  "language_info": {
   "codemirror_mode": {
    "name": "ipython",
    "version": 3
   },
   "file_extension": ".py",
   "mimetype": "text/x-python",
   "name": "python",
   "nbconvert_exporter": "python",
   "pygments_lexer": "ipython3",
   "version": "3.7.3"
  }
 },
 "nbformat": 4,
 "nbformat_minor": 2
}
